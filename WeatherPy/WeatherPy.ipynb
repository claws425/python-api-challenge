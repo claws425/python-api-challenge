{
 "cells": [
  {
   "cell_type": "markdown",
   "metadata": {},
   "source": [
    "# WeatherPy\n",
    "----\n",
    "\n",
    "#### Note\n",
    "* Instructions have been included for each segment. You do not have to follow them exactly, but they are included to help you think through the steps."
   ]
  },
  {
   "cell_type": "code",
   "execution_count": 3,
   "metadata": {
    "scrolled": true
   },
   "outputs": [],
   "source": [
    "# Dependencies and Setup\n",
    "import matplotlib.pyplot as plt\n",
    "import pandas as pd\n",
    "import numpy as np\n",
    "import requests\n",
    "import time\n",
    "from scipy.stats import linregress\n",
    "\n",
    "# Import API key\n",
    "from api_keys import weather_api_key\n",
    "\n",
    "# Incorporated citipy to determine city based on latitude and longitude\n",
    "from citipy import citipy\n",
    "\n",
    "# Output File (CSV)\n",
    "output_data_file = \"output_data/cities.csv\"\n",
    "\n",
    "# Range of latitudes and longitudes\n",
    "lat_range = (-90, 90)\n",
    "lng_range = (-180, 180)"
   ]
  },
  {
   "cell_type": "markdown",
   "metadata": {},
   "source": [
    "## Generate Cities List"
   ]
  },
  {
   "cell_type": "code",
   "execution_count": 2,
   "metadata": {},
   "outputs": [
    {
     "data": {
      "text/plain": [
       "603"
      ]
     },
     "execution_count": 2,
     "metadata": {},
     "output_type": "execute_result"
    }
   ],
   "source": [
    "# List for holding lat_lngs and cities\n",
    "lat_lngs = []\n",
    "cities = []\n",
    "\n",
    "# Create a set of random lat and lng combinations\n",
    "lats = np.random.uniform(lat_range[0], lat_range[1], size=1500)\n",
    "lngs = np.random.uniform(lng_range[0], lng_range[1], size=1500)\n",
    "lat_lngs = zip(lats, lngs)\n",
    "\n",
    "# Identify nearest city for each lat, lng combination\n",
    "for lat_lng in lat_lngs:\n",
    "    city = citipy.nearest_city(lat_lng[0], lat_lng[1]).city_name\n",
    "    \n",
    "    # If the city is unique, then add it to a our cities list\n",
    "    if city not in cities:\n",
    "        cities.append(city)\n",
    "\n",
    "# Print the city count to confirm sufficient count\n",
    "len(cities)"
   ]
  },
  {
   "cell_type": "markdown",
   "metadata": {},
   "source": [
    "### Perform API Calls\n",
    "* Perform a weather check on each city using a series of successive API calls.\n",
    "* Include a print log of each city as it'sbeing processed (with the city number and city name).\n"
   ]
  },
  {
   "cell_type": "code",
   "execution_count": 7,
   "metadata": {
    "scrolled": true
   },
   "outputs": [
    {
     "name": "stdout",
     "output_type": "stream",
     "text": [
      "Processing record 1|skibbereen\n",
      "Processing record 2|koumac\n",
      "Processing record 3|birjand\n",
      "Processing record 4|sao joao da barra\n",
      "Processing record 5|yar-sale\n",
      "Processing record 6|puerto ayora\n",
      "Processing record 7|pangody\n",
      "City not found. skipping.\n",
      "Processing record 8|cayenne\n",
      "Processing record 9|qaanaaq\n",
      "City not found. skipping.\n",
      "Processing record 10|tuktoyaktuk\n",
      "Processing record 11|wanaraja\n",
      "Processing record 12|kloulklubed\n",
      "Processing record 13|tiksi\n",
      "Processing record 14|upernavik\n",
      "Processing record 15|georgetown\n",
      "Processing record 16|bredasdorp\n",
      "Processing record 17|nome\n",
      "Processing record 18|cornelio procopio\n",
      "Processing record 19|ushuaia\n",
      "Processing record 20|kostino\n",
      "City not found. skipping.\n",
      "Processing record 21|khatanga\n",
      "Processing record 22|mehamn\n",
      "Processing record 23|casa nova\n",
      "City not found. skipping.\n",
      "Processing record 24|jamestown\n",
      "Processing record 25|balabac\n",
      "Processing record 26|longyearbyen\n",
      "Processing record 27|itarema\n",
      "Processing record 28|hobart\n",
      "Processing record 29|pecos\n",
      "City not found. skipping.\n",
      "Processing record 30|san bartolome de tirajana\n",
      "Processing record 31|russell\n",
      "Processing record 32|saint-philippe\n",
      "Processing record 33|nizhniy kuranakh\n",
      "Processing record 34|kedrovyy\n",
      "Processing record 35|ponta do sol\n",
      "Processing record 36|port blair\n",
      "Processing record 37|ribeira grande\n",
      "Processing record 38|kavaratti\n",
      "Processing record 39|rikitea\n",
      "Processing record 40|mount isa\n",
      "Processing record 41|bereda\n",
      "Processing record 42|tasiilaq\n",
      "Processing record 43|kysyl-syr\n",
      "Processing record 44|fallon\n",
      "Processing record 45|fort morgan\n",
      "Processing record 46|masumbwe\n",
      "Processing record 47|acari\n",
      "Processing record 48|khawhai\n",
      "Processing record 49|salalah\n",
      "Processing record 50|valdivia\n",
      "Processing record 51|san onofre\n",
      "Processing record 52|vanavara\n",
      "Processing record 53|bluff\n",
      "City not found. skipping.\n",
      "City not found. skipping.\n",
      "City not found. skipping.\n",
      "Processing record 54|homer\n",
      "Processing record 55|san lorenzo\n",
      "Processing record 56|padang\n",
      "Processing record 57|albany\n",
      "Processing record 58|saldanha\n",
      "Processing record 59|kapaa\n",
      "Processing record 60|port alfred\n",
      "City not found. skipping.\n",
      "Processing record 61|muros\n",
      "Processing record 62|yellowknife\n",
      "Processing record 63|hobyo\n",
      "Processing record 64|houma\n",
      "Processing record 65|luderitz\n",
      "Processing record 66|eureka\n",
      "Processing record 67|san cristobal\n",
      "Processing record 68|darhan\n",
      "Processing record 69|atuona\n",
      "Processing record 70|gornopravdinsk\n",
      "Processing record 71|busselton\n",
      "Processing record 72|dikson\n",
      "Processing record 73|high level\n",
      "Processing record 74|namatanai\n",
      "Processing record 75|butaritari\n",
      "Processing record 76|kodiak\n",
      "Processing record 77|airai\n",
      "Processing record 78|navalmoral de la mata\n",
      "Processing record 79|kibala\n",
      "Processing record 80|ixtapa\n",
      "Processing record 81|vaini\n",
      "Processing record 82|ipswich\n",
      "Processing record 83|tuatapere\n",
      "Processing record 84|saint-pierre\n",
      "Processing record 85|saskylakh\n",
      "Processing record 86|iqaluit\n",
      "Processing record 87|thompson\n",
      "Processing record 88|sistranda\n",
      "City not found. skipping.\n",
      "Processing record 89|puerto escondido\n",
      "Processing record 90|senador jose porfirio\n",
      "Processing record 91|lata\n",
      "Processing record 92|mataura\n",
      "Processing record 93|hermanus\n",
      "Processing record 94|vangaindrano\n",
      "Processing record 95|lagoa\n",
      "City not found. skipping.\n",
      "Processing record 96|hibbing\n",
      "Processing record 97|shimoda\n",
      "Processing record 98|silifke\n",
      "Processing record 99|severo-kurilsk\n",
      "Processing record 100|joshimath\n",
      "Processing record 101|castro\n",
      "Processing record 102|paso de carrasco\n",
      "Processing record 103|dahuk\n",
      "Processing record 104|cape town\n",
      "Processing record 105|barrow\n",
      "Processing record 106|huntsville\n",
      "Processing record 107|kalininsk\n",
      "Processing record 108|mahebourg\n",
      "Processing record 109|nenjiang\n",
      "Processing record 110|miyako\n",
      "Processing record 111|ihosy\n",
      "City not found. skipping.\n",
      "Processing record 112|quatre cocos\n",
      "Processing record 113|fort nelson\n",
      "City not found. skipping.\n",
      "Processing record 114|mar del plata\n",
      "Processing record 115|isangel\n",
      "Processing record 116|singkawang\n",
      "Processing record 117|little current\n",
      "Processing record 118|dawson creek\n",
      "Processing record 119|plettenberg bay\n",
      "Processing record 120|quang ngai\n",
      "Processing record 121|goundi\n",
      "Processing record 122|arraial do cabo\n",
      "City not found. skipping.\n",
      "Processing record 123|florence\n",
      "Processing record 124|san miguel\n",
      "Processing record 125|brasilia\n",
      "Processing record 126|richards bay\n",
      "Processing record 127|esperance\n",
      "Processing record 128|bathsheba\n",
      "Processing record 129|punta arenas\n",
      "Processing record 130|chulman\n",
      "Processing record 131|raudeberg\n",
      "Processing record 132|nipawin\n",
      "Processing record 133|labuhan\n",
      "Processing record 134|cabo san lucas\n",
      "Processing record 135|ndola\n",
      "Processing record 136|port elizabeth\n",
      "Processing record 137|lengshuijiang\n",
      "Processing record 138|hilo\n",
      "Processing record 139|jinchang\n",
      "Processing record 140|faanui\n",
      "Processing record 141|new norfolk\n",
      "Processing record 142|marsh harbour\n",
      "Processing record 143|carnarvon\n",
      "Processing record 144|yeppoon\n",
      "Processing record 145|kahului\n",
      "Processing record 146|hamilton\n",
      "Processing record 147|requena\n",
      "Processing record 148|svetlaya\n",
      "Processing record 149|nizwa\n",
      "Processing record 150|nioro\n",
      "Processing record 151|saint-joseph\n",
      "Processing record 152|baracoa\n",
      "Processing record 153|fortuna\n",
      "Processing record 154|mobile\n",
      "Processing record 155|vao\n",
      "Processing record 156|lompoc\n",
      "Processing record 157|lebu\n",
      "Processing record 158|pisco\n",
      "Processing record 159|provideniya\n",
      "Processing record 160|asau\n",
      "Processing record 161|durango\n",
      "Processing record 162|mersing\n",
      "Processing record 163|lufilufi\n",
      "Processing record 164|roald\n",
      "Processing record 165|saint george\n",
      "Processing record 166|west bay\n",
      "Processing record 167|veinticinco de diciembre\n",
      "Processing record 168|bubaque\n",
      "Processing record 169|rio gallegos\n",
      "Processing record 170|farafenni\n",
      "Processing record 171|grindavik\n",
      "City not found. skipping.\n",
      "Processing record 172|zhanaozen\n",
      "City not found. skipping.\n",
      "Processing record 173|roma\n",
      "Processing record 174|coolum beach\n",
      "Processing record 175|sines\n",
      "City not found. skipping.\n",
      "Processing record 176|avarua\n",
      "Processing record 177|havelock\n",
      "Processing record 178|waipawa\n",
      "Processing record 179|umba\n",
      "Processing record 180|hithadhoo\n",
      "Processing record 181|teya\n",
      "Processing record 182|ayagoz\n",
      "Processing record 183|orumiyeh\n",
      "Processing record 184|sao domingos do prata\n",
      "Processing record 185|flin flon\n",
      "Processing record 186|pontianak\n",
      "Processing record 187|atar\n",
      "Processing record 188|bahia blanca\n",
      "Processing record 189|katsuura\n",
      "Processing record 190|umm lajj\n",
      "Processing record 191|beeskow\n",
      "Processing record 192|alto araguaia\n",
      "Processing record 193|comodoro rivadavia\n",
      "Processing record 194|pacific grove\n",
      "Processing record 195|gotha\n",
      "Processing record 196|souillac\n",
      "Processing record 197|itoman\n",
      "Processing record 198|bull savanna\n",
      "Processing record 199|east london\n",
      "Processing record 200|urumqi\n",
      "Processing record 201|constitucion\n",
      "Processing record 202|bethel\n",
      "Processing record 203|sri aman\n",
      "Processing record 204|kyaikkami\n",
      "Processing record 205|severo-yeniseyskiy\n",
      "City not found. skipping.\n",
      "Processing record 206|kangaatsiaq\n",
      "Processing record 207|walvis bay\n",
      "Processing record 208|port hardy\n",
      "Processing record 209|victoria\n",
      "Processing record 210|dodge city\n",
      "City not found. skipping.\n",
      "Processing record 211|espinosa\n",
      "Processing record 212|jalapa\n",
      "Processing record 213|imamoglu\n",
      "Processing record 214|cherskiy\n",
      "Processing record 215|harper\n",
      "Processing record 216|rangapara\n",
      "Processing record 217|qui nhon\n",
      "Processing record 218|wewak\n",
      "Processing record 219|adana\n",
      "Processing record 220|aswan\n",
      "City not found. skipping.\n",
      "Processing record 221|srednekolymsk\n",
      "Processing record 222|teahupoo\n",
      "Processing record 223|impfondo\n",
      "Processing record 224|sambava\n",
      "Processing record 225|udachnyy\n",
      "Processing record 226|cidreira\n",
      "Processing record 227|erdenet\n",
      "Processing record 228|yumen\n",
      "Processing record 229|geraldton\n",
      "Processing record 230|krasnorechenskiy\n",
      "Processing record 231|viedma\n",
      "Processing record 232|halifax\n",
      "Processing record 233|dingle\n",
      "City not found. skipping.\n",
      "Processing record 234|alice springs\n",
      "Processing record 235|rypefjord\n",
      "Processing record 236|ouricuri\n",
      "Processing record 237|codrington\n",
      "Processing record 238|north myrtle beach\n",
      "City not found. skipping.\n",
      "Processing record 239|namie\n",
      "City not found. skipping.\n",
      "Processing record 240|ngunguru\n",
      "Processing record 241|chokurdakh\n",
      "Processing record 242|kampong cham\n",
      "Processing record 243|mitsamiouli\n",
      "Processing record 244|nara\n"
     ]
    },
    {
     "name": "stdout",
     "output_type": "stream",
     "text": [
      "Processing record 245|kavieng\n",
      "Processing record 246|tokur\n",
      "Processing record 247|haines junction\n",
      "Processing record 248|kalavad\n",
      "Processing record 249|trincomalee\n",
      "Processing record 250|gori\n",
      "Processing record 251|touros\n",
      "Processing record 252|sao filipe\n",
      "Processing record 253|talnakh\n",
      "Processing record 254|deputatskiy\n",
      "Processing record 255|ilulissat\n",
      "Processing record 256|sorland\n",
      "Processing record 257|bungu\n",
      "Processing record 258|tura\n",
      "Processing record 259|dungarpur\n",
      "Processing record 260|vila velha\n",
      "Processing record 261|ornskoldsvik\n",
      "Processing record 262|datong\n",
      "Processing record 263|uvira\n",
      "Processing record 264|barcelona\n",
      "Processing record 265|tukan\n",
      "Processing record 266|paita\n",
      "Processing record 267|beaumont\n",
      "Processing record 268|kruisfontein\n",
      "Processing record 269|normandin\n",
      "Processing record 270|alofi\n",
      "Processing record 271|hasaki\n",
      "Processing record 272|nikolskoye\n",
      "Processing record 273|korop\n",
      "Processing record 274|krasnoselkup\n",
      "Processing record 275|vardo\n",
      "City not found. skipping.\n",
      "Processing record 276|bintulu\n",
      "Processing record 277|oistins\n",
      "Processing record 278|blagodatnoye\n",
      "Processing record 279|narasannapeta\n",
      "Processing record 280|dortyol\n",
      "Processing record 281|sohag\n",
      "Processing record 282|belmonte\n",
      "Processing record 283|beringovskiy\n",
      "Processing record 284|antalaha\n",
      "Processing record 285|lorengau\n",
      "Processing record 286|changji\n",
      "Processing record 287|tambura\n",
      "City not found. skipping.\n",
      "Processing record 288|ledyard\n",
      "Processing record 289|coronel vivida\n",
      "City not found. skipping.\n",
      "Processing record 290|uyemskiy\n",
      "Processing record 291|kushiro\n",
      "Processing record 292|conceicao do araguaia\n",
      "Processing record 293|kandrian\n",
      "Processing record 294|nanortalik\n",
      "Processing record 295|kharp\n",
      "Processing record 296|mount gambier\n",
      "Processing record 297|oume\n",
      "Processing record 298|brancoveni\n",
      "Processing record 299|itaqui\n",
      "Processing record 300|torbay\n",
      "Processing record 301|kurchum\n",
      "Processing record 302|colac\n",
      "Processing record 303|vila franca do campo\n",
      "Processing record 304|san jose\n",
      "Processing record 305|mandalgovi\n",
      "City not found. skipping.\n",
      "Processing record 306|tigil\n",
      "City not found. skipping.\n",
      "Processing record 307|montrose\n",
      "Processing record 308|rafsanjan\n",
      "Processing record 309|coihaique\n",
      "Processing record 310|jalu\n",
      "Processing record 311|samur\n",
      "Processing record 312|maarianhamina\n",
      "Processing record 313|inhambane\n",
      "Processing record 314|mackay\n",
      "Processing record 315|tazovskiy\n",
      "Processing record 316|flinders\n",
      "Processing record 317|lebowakgomo\n",
      "Processing record 318|hudiksvall\n",
      "Processing record 319|dembi dolo\n",
      "Processing record 320|sola\n",
      "Processing record 321|pipar\n",
      "Processing record 322|okha\n",
      "Processing record 323|chuy\n",
      "Processing record 324|dovers\n",
      "Processing record 325|leningradskiy\n",
      "Processing record 326|waingapu\n",
      "Processing record 327|dauphin\n",
      "City not found. skipping.\n",
      "Processing record 328|guia lopes da laguna\n",
      "Processing record 329|maltahohe\n",
      "Processing record 330|camana\n",
      "Processing record 331|uige\n",
      "Processing record 332|fukue\n",
      "Processing record 333|turukhansk\n",
      "Processing record 334|jiaojiang\n",
      "Processing record 335|lambarene\n",
      "Processing record 336|klaksvik\n",
      "Processing record 337|asfi\n",
      "Processing record 338|meulaboh\n",
      "Processing record 339|vaitape\n",
      "Processing record 340|portland\n",
      "Processing record 341|ha tinh\n",
      "Processing record 342|samarai\n",
      "Processing record 343|fairburn\n",
      "Processing record 344|kijang\n",
      "Processing record 345|papar\n",
      "Processing record 346|mayo\n",
      "Processing record 347|kulhudhuffushi\n",
      "City not found. skipping.\n",
      "Processing record 348|novonukutskiy\n",
      "Processing record 349|karratha\n",
      "Processing record 350|lethem\n",
      "Processing record 351|avera\n",
      "Processing record 352|lucapa\n",
      "Processing record 353|tromso\n",
      "Processing record 354|alyangula\n",
      "Processing record 355|dubti\n",
      "Processing record 356|coos bay\n",
      "Processing record 357|manaure\n",
      "Processing record 358|svetlyy\n",
      "Processing record 359|kuloy\n",
      "Processing record 360|port lincoln\n",
      "Processing record 361|baruun-urt\n",
      "Processing record 362|adrar\n",
      "Processing record 363|vallenar\n",
      "Processing record 364|ambilobe\n",
      "City not found. skipping.\n",
      "Processing record 365|jacareacanga\n",
      "Processing record 366|tecoanapa\n",
      "Processing record 367|kjopsvik\n",
      "Processing record 368|harur\n",
      "Processing record 369|ko samui\n",
      "Processing record 370|kaitangata\n",
      "Processing record 371|sioux lookout\n",
      "Processing record 372|bud\n",
      "Processing record 373|caxito\n",
      "Processing record 374|labis\n",
      "Processing record 375|sitka\n",
      "Processing record 376|hambantota\n",
      "City not found. skipping.\n",
      "Processing record 377|tiznit\n",
      "Processing record 378|bonthe\n",
      "Processing record 379|hagere hiywet\n",
      "Processing record 380|brownsville\n",
      "City not found. skipping.\n",
      "Processing record 381|lipin bor\n",
      "Processing record 382|tsumeb\n",
      "Processing record 383|pangnirtung\n",
      "Processing record 384|gushi\n",
      "Processing record 385|arlit\n",
      "Processing record 386|shenjiamen\n",
      "Processing record 387|guerrero negro\n",
      "City not found. skipping.\n",
      "Processing record 388|yarmouth\n",
      "Processing record 389|vicksburg\n",
      "Processing record 390|kattivakkam\n",
      "Processing record 391|tabasalu\n",
      "Processing record 392|anadyr\n",
      "Processing record 393|porto novo\n",
      "Processing record 394|gravdal\n",
      "Processing record 395|llano largo\n",
      "City not found. skipping.\n",
      "Processing record 396|ahipara\n",
      "Processing record 397|tabou\n",
      "Processing record 398|bonavista\n",
      "Processing record 399|lockport\n",
      "Processing record 400|shubarshi\n",
      "Processing record 401|clyde river\n",
      "Processing record 402|maningrida\n",
      "City not found. skipping.\n",
      "Processing record 403|menongue\n",
      "Processing record 404|sile\n",
      "Processing record 405|kutum\n",
      "Processing record 406|biltine\n",
      "Processing record 407|begunitsy\n",
      "Processing record 408|mae sai\n",
      "Processing record 409|sakakah\n",
      "Processing record 410|muravlenko\n",
      "Processing record 411|lavrentiya\n",
      "Processing record 412|savannakhet\n",
      "Processing record 413|kilgore\n",
      "Processing record 414|victoria point\n",
      "Processing record 415|kawalu\n",
      "Processing record 416|fairbanks\n",
      "Processing record 417|ulaangom\n",
      "Processing record 418|mahajanga\n",
      "Processing record 419|pevek\n",
      "Processing record 420|ardakan\n",
      "Processing record 421|enderby\n",
      "Processing record 422|imeni poliny osipenko\n",
      "Processing record 423|berlevag\n",
      "Processing record 424|songea\n",
      "Processing record 425|okhotsk\n",
      "Processing record 426|amot\n",
      "Processing record 427|garowe\n",
      "Processing record 428|sumbe\n",
      "Processing record 429|waitati\n",
      "Processing record 430|itaituba\n",
      "Processing record 431|aberdeen\n",
      "Processing record 432|beloha\n",
      "City not found. skipping.\n",
      "Processing record 433|olga\n",
      "Processing record 434|nyurba\n",
      "Processing record 435|mabaruma\n",
      "Processing record 436|shepsi\n",
      "Processing record 437|gouyave\n",
      "Processing record 438|mogadishu\n",
      "Processing record 439|nouadhibou\n",
      "Processing record 440|valadares\n",
      "Processing record 441|innisfail\n",
      "Processing record 442|beyneu\n",
      "Processing record 443|kendari\n",
      "Processing record 444|deer lake\n",
      "Processing record 445|chichibu\n",
      "Processing record 446|chapais\n",
      "Processing record 447|svetlogorsk\n",
      "Processing record 448|bambous virieux\n",
      "Processing record 449|siilinjarvi\n",
      "Processing record 450|bukama\n",
      "City not found. skipping.\n",
      "Processing record 451|saravan\n",
      "Processing record 452|narsaq\n",
      "Processing record 453|kupang\n",
      "Processing record 454|babati\n",
      "Processing record 455|bayir\n",
      "Processing record 456|ankazobe\n",
      "Processing record 457|north bend\n",
      "Processing record 458|malinovskiy\n",
      "Processing record 459|imeni babushkina\n",
      "Processing record 460|batemans bay\n",
      "Processing record 461|statesboro\n",
      "Processing record 462|usevya\n",
      "Processing record 463|chingola\n",
      "Processing record 464|la libertad\n",
      "Processing record 465|keti bandar\n",
      "Processing record 466|makakilo city\n",
      "Processing record 467|launceston\n",
      "Processing record 468|morondava\n",
      "Processing record 469|santa fe\n",
      "Processing record 470|carmelo\n",
      "Processing record 471|kerouane\n",
      "Processing record 472|chaihe\n",
      "Processing record 473|lamu\n",
      "Processing record 474|stokmarknes\n",
      "Processing record 475|norman wells\n",
      "Processing record 476|longford\n",
      "Processing record 477|kizukuri\n",
      "Processing record 478|faranah\n",
      "Processing record 479|cascais\n",
      "Processing record 480|luau\n",
      "Processing record 481|bolondron\n",
      "Processing record 482|tumut\n",
      "Processing record 483|yulara\n",
      "Processing record 484|skjervoy\n",
      "Processing record 485|cabinda\n",
      "Processing record 486|hamada\n",
      "Processing record 487|pedernales\n",
      "Processing record 488|buraydah\n",
      "Processing record 489|ketchikan\n",
      "Processing record 490|ust-ilimsk\n",
      "Processing record 491|paris\n",
      "Processing record 492|abu samrah\n",
      "Processing record 493|sechura\n",
      "Processing record 494|tual\n",
      "Processing record 495|jadu\n",
      "Processing record 496|tarakan\n",
      "Processing record 497|novo aripuana\n"
     ]
    },
    {
     "name": "stdout",
     "output_type": "stream",
     "text": [
      "Processing record 498|fonte boa\n",
      "Processing record 499|campbellsville\n",
      "Processing record 500|orodara\n",
      "Processing record 501|ternate\n",
      "Processing record 502|skagen\n",
      "Processing record 503|los llanos de aridane\n",
      "Processing record 504|nouakchott\n",
      "Processing record 505|taltal\n",
      "Processing record 506|carauari\n",
      "Processing record 507|cap-aux-meules\n",
      "Processing record 508|san jeronimo\n",
      "Processing record 509|morehead\n",
      "Processing record 510|pilar\n",
      "Processing record 511|te anau\n",
      "Processing record 512|manono\n",
      "Processing record 513|listvyagi\n",
      "Processing record 514|stornoway\n",
      "Processing record 515|uspenskoye\n",
      "Processing record 516|prainha\n",
      "Processing record 517|buta\n",
      "Processing record 518|kitaibaraki\n",
      "Processing record 519|tornio\n",
      "Processing record 520|olafsvik\n",
      "Processing record 521|la ronge\n",
      "Processing record 522|luganville\n",
      "Processing record 523|ambon\n",
      "City not found. skipping.\n",
      "Processing record 524|fernie\n",
      "Processing record 525|samoylovka\n",
      "Processing record 526|kenora\n",
      "Processing record 527|grand-lahou\n",
      "City not found. skipping.\n",
      "Processing record 528|barsovo\n",
      "Processing record 529|samana\n",
      "Processing record 530|barcarena\n",
      "Processing record 531|quthing\n",
      "Processing record 532|atambua\n",
      "Processing record 533|tahoua\n",
      "Processing record 534|amuntai\n",
      "Processing record 535|pringsewu\n",
      "Processing record 536|ancud\n",
      "City not found. skipping.\n",
      "Processing record 537|zinder\n",
      "Processing record 538|okoneshnikovo\n",
      "Processing record 539|salisbury\n",
      "Processing record 540|noumea\n",
      "Processing record 541|yeghegnut\n",
      "Processing record 542|saint anthony\n",
      "Processing record 543|singkang\n",
      "Processing record 544|whitehorse\n",
      "Processing record 545|yinchuan\n",
      "Processing record 546|diffa\n",
      "Processing record 547|le port\n",
      "Processing record 548|cuxhaven\n",
      "Processing record 549|matale\n",
      "Processing record 550|byron bay\n",
      "Processing record 551|broome\n",
      "Processing record 552|ahuimanu\n",
      "Processing record 553|gao\n",
      "Processing record 554|chicama\n",
      "Processing record 555|kharakvasla\n",
      "Processing record 556|ust-kut\n",
      "Processing record 557|noyabrsk\n",
      "Processing record 558|kidal\n",
      "Processing record 559|sarangani\n",
      "Processing record 560|luanda\n",
      "Processing record 561|chifeng\n",
      "Processing record 562|nago\n"
     ]
    }
   ],
   "source": [
    "url = \"http://api.openweathermap.org/data/2.5/weather?units=Imperial&\"\n",
    "\n",
    "#Define empty lists to store values\n",
    "cloudiness = []\n",
    "country = []\n",
    "date = []\n",
    "max_temp = []\n",
    "humidity = []\n",
    "lat = []\n",
    "lng = []\n",
    "wind_speed = []\n",
    "city_name = []\n",
    "\n",
    "#Looping through cities to make api calls using city as query\n",
    "i = 1\n",
    "for city in cities:\n",
    "    city=city\n",
    "    query_url = url + \"appid=\" + weather_api_key + \"&q=\" + city\n",
    "    response = requests.get(query_url).json()\n",
    "    \n",
    "#Extracting data. Missing data is handled by try and except  \n",
    "    try:\n",
    "        \n",
    "        cloudiness.append(response[\"clouds\"][\"all\"])\n",
    "        country.append(response[\"sys\"][\"country\"])\n",
    "        date.append(response[\"dt\"])\n",
    "        max_temp.append(response[\"main\"]['temp_max'])\n",
    "        humidity.append(response[\"main\"]['humidity'])\n",
    "        lat.append(response[\"coord\"][\"lat\"])  \n",
    "        lng.append(response[\"coord\"][\"lon\"])\n",
    "        wind_speed.append(response[\"wind\"][\"speed\"])\n",
    "        city_name.append(response[\"name\"])\n",
    "        print(f\"Processing record {i}|{city}\")\n",
    "        i+=1\n",
    "    except (KeyError):\n",
    "        print(\"City not found. skipping.\")"
   ]
  },
  {
   "cell_type": "markdown",
   "metadata": {},
   "source": [
    "### Convert Raw Data to DataFrame\n",
    "* Export the city data into a .csv.\n",
    "* Display the DataFrame"
   ]
  },
  {
   "cell_type": "code",
   "execution_count": 12,
   "metadata": {},
   "outputs": [
    {
     "data": {
      "text/html": [
       "<div>\n",
       "<style scoped>\n",
       "    .dataframe tbody tr th:only-of-type {\n",
       "        vertical-align: middle;\n",
       "    }\n",
       "\n",
       "    .dataframe tbody tr th {\n",
       "        vertical-align: top;\n",
       "    }\n",
       "\n",
       "    .dataframe thead th {\n",
       "        text-align: right;\n",
       "    }\n",
       "</style>\n",
       "<table border=\"1\" class=\"dataframe\">\n",
       "  <thead>\n",
       "    <tr style=\"text-align: right;\">\n",
       "      <th></th>\n",
       "      <th>City</th>\n",
       "      <th>Latitude</th>\n",
       "      <th>Longitude</th>\n",
       "      <th>Max Temp</th>\n",
       "      <th>Humidity</th>\n",
       "      <th>Cloudiness</th>\n",
       "      <th>Wind Speed</th>\n",
       "      <th>Country</th>\n",
       "      <th>Date</th>\n",
       "    </tr>\n",
       "  </thead>\n",
       "  <tbody>\n",
       "    <tr>\n",
       "      <th>0</th>\n",
       "      <td>Skibbereen</td>\n",
       "      <td>51.5500</td>\n",
       "      <td>-9.2667</td>\n",
       "      <td>44.60</td>\n",
       "      <td>93</td>\n",
       "      <td>75</td>\n",
       "      <td>17.27</td>\n",
       "      <td>IE</td>\n",
       "      <td>1611954941</td>\n",
       "    </tr>\n",
       "    <tr>\n",
       "      <th>1</th>\n",
       "      <td>Koumac</td>\n",
       "      <td>-20.5667</td>\n",
       "      <td>164.2833</td>\n",
       "      <td>79.20</td>\n",
       "      <td>72</td>\n",
       "      <td>1</td>\n",
       "      <td>4.65</td>\n",
       "      <td>NC</td>\n",
       "      <td>1611954941</td>\n",
       "    </tr>\n",
       "    <tr>\n",
       "      <th>2</th>\n",
       "      <td>Birjand</td>\n",
       "      <td>32.8663</td>\n",
       "      <td>59.2211</td>\n",
       "      <td>48.20</td>\n",
       "      <td>12</td>\n",
       "      <td>0</td>\n",
       "      <td>11.50</td>\n",
       "      <td>IR</td>\n",
       "      <td>1611954941</td>\n",
       "    </tr>\n",
       "    <tr>\n",
       "      <th>3</th>\n",
       "      <td>São João da Barra</td>\n",
       "      <td>-21.6403</td>\n",
       "      <td>-41.0511</td>\n",
       "      <td>82.40</td>\n",
       "      <td>65</td>\n",
       "      <td>0</td>\n",
       "      <td>20.71</td>\n",
       "      <td>BR</td>\n",
       "      <td>1611954942</td>\n",
       "    </tr>\n",
       "    <tr>\n",
       "      <th>4</th>\n",
       "      <td>Yar-Sale</td>\n",
       "      <td>66.8333</td>\n",
       "      <td>70.8333</td>\n",
       "      <td>-41.37</td>\n",
       "      <td>80</td>\n",
       "      <td>16</td>\n",
       "      <td>4.56</td>\n",
       "      <td>RU</td>\n",
       "      <td>1611954942</td>\n",
       "    </tr>\n",
       "  </tbody>\n",
       "</table>\n",
       "</div>"
      ],
      "text/plain": [
       "                City  Latitude  Longitude  Max Temp  Humidity  Cloudiness  \\\n",
       "0         Skibbereen   51.5500    -9.2667     44.60        93          75   \n",
       "1             Koumac  -20.5667   164.2833     79.20        72           1   \n",
       "2            Birjand   32.8663    59.2211     48.20        12           0   \n",
       "3  São João da Barra  -21.6403   -41.0511     82.40        65           0   \n",
       "4           Yar-Sale   66.8333    70.8333    -41.37        80          16   \n",
       "\n",
       "   Wind Speed Country        Date  \n",
       "0       17.27      IE  1611954941  \n",
       "1        4.65      NC  1611954941  \n",
       "2       11.50      IR  1611954941  \n",
       "3       20.71      BR  1611954942  \n",
       "4        4.56      RU  1611954942  "
      ]
     },
     "execution_count": 12,
     "metadata": {},
     "output_type": "execute_result"
    }
   ],
   "source": [
    "# Convert array of JSONs into Pandas DataFrame\n",
    "\n",
    "weather_dict = {\"City\": city_name,\n",
    "                \"Latitude\": lat,\n",
    "                \"Longitude\":lng,\n",
    "                \"Max Temp\":max_temp,\n",
    "                \"Humidity\":humidity,\n",
    "                \"Cloudiness\":cloudiness,\n",
    "                \"Wind Speed\":wind_speed,\n",
    "                \"Country\":country,\n",
    "                \"Date\":date}\n",
    "weather_data = pd.DataFrame(weather_dict)\n",
    "weather_data.head()"
   ]
  },
  {
   "cell_type": "code",
   "execution_count": 17,
   "metadata": {},
   "outputs": [],
   "source": [
    "# Exporting data to csv\n",
    "weather_data.to_csv(\"cities.csv\")"
   ]
  },
  {
   "cell_type": "code",
   "execution_count": 6,
   "metadata": {},
   "outputs": [
    {
     "data": {
      "text/html": [
       "<div>\n",
       "<style scoped>\n",
       "    .dataframe tbody tr th:only-of-type {\n",
       "        vertical-align: middle;\n",
       "    }\n",
       "\n",
       "    .dataframe tbody tr th {\n",
       "        vertical-align: top;\n",
       "    }\n",
       "\n",
       "    .dataframe thead th {\n",
       "        text-align: right;\n",
       "    }\n",
       "</style>\n",
       "<table border=\"1\" class=\"dataframe\">\n",
       "  <thead>\n",
       "    <tr style=\"text-align: right;\">\n",
       "      <th></th>\n",
       "      <th>Unnamed: 0</th>\n",
       "      <th>City</th>\n",
       "      <th>Latitude</th>\n",
       "      <th>Longitude</th>\n",
       "      <th>Max Temp</th>\n",
       "      <th>Humidity</th>\n",
       "      <th>Cloudiness</th>\n",
       "      <th>Wind Speed</th>\n",
       "      <th>Country</th>\n",
       "      <th>Date</th>\n",
       "    </tr>\n",
       "  </thead>\n",
       "  <tbody>\n",
       "    <tr>\n",
       "      <th>0</th>\n",
       "      <td>0</td>\n",
       "      <td>Skibbereen</td>\n",
       "      <td>51.5500</td>\n",
       "      <td>-9.2667</td>\n",
       "      <td>44.60</td>\n",
       "      <td>93</td>\n",
       "      <td>75</td>\n",
       "      <td>17.27</td>\n",
       "      <td>IE</td>\n",
       "      <td>1611954941</td>\n",
       "    </tr>\n",
       "    <tr>\n",
       "      <th>1</th>\n",
       "      <td>1</td>\n",
       "      <td>Koumac</td>\n",
       "      <td>-20.5667</td>\n",
       "      <td>164.2833</td>\n",
       "      <td>79.20</td>\n",
       "      <td>72</td>\n",
       "      <td>1</td>\n",
       "      <td>4.65</td>\n",
       "      <td>NC</td>\n",
       "      <td>1611954941</td>\n",
       "    </tr>\n",
       "    <tr>\n",
       "      <th>2</th>\n",
       "      <td>2</td>\n",
       "      <td>Birjand</td>\n",
       "      <td>32.8663</td>\n",
       "      <td>59.2211</td>\n",
       "      <td>48.20</td>\n",
       "      <td>12</td>\n",
       "      <td>0</td>\n",
       "      <td>11.50</td>\n",
       "      <td>IR</td>\n",
       "      <td>1611954941</td>\n",
       "    </tr>\n",
       "    <tr>\n",
       "      <th>3</th>\n",
       "      <td>3</td>\n",
       "      <td>São João da Barra</td>\n",
       "      <td>-21.6403</td>\n",
       "      <td>-41.0511</td>\n",
       "      <td>82.40</td>\n",
       "      <td>65</td>\n",
       "      <td>0</td>\n",
       "      <td>20.71</td>\n",
       "      <td>BR</td>\n",
       "      <td>1611954942</td>\n",
       "    </tr>\n",
       "    <tr>\n",
       "      <th>4</th>\n",
       "      <td>4</td>\n",
       "      <td>Yar-Sale</td>\n",
       "      <td>66.8333</td>\n",
       "      <td>70.8333</td>\n",
       "      <td>-41.37</td>\n",
       "      <td>80</td>\n",
       "      <td>16</td>\n",
       "      <td>4.56</td>\n",
       "      <td>RU</td>\n",
       "      <td>1611954942</td>\n",
       "    </tr>\n",
       "  </tbody>\n",
       "</table>\n",
       "</div>"
      ],
      "text/plain": [
       "   Unnamed: 0               City  Latitude  Longitude  Max Temp  Humidity  \\\n",
       "0           0         Skibbereen   51.5500    -9.2667     44.60        93   \n",
       "1           1             Koumac  -20.5667   164.2833     79.20        72   \n",
       "2           2            Birjand   32.8663    59.2211     48.20        12   \n",
       "3           3  São João da Barra  -21.6403   -41.0511     82.40        65   \n",
       "4           4           Yar-Sale   66.8333    70.8333    -41.37        80   \n",
       "\n",
       "   Cloudiness  Wind Speed Country        Date  \n",
       "0          75       17.27      IE  1611954941  \n",
       "1           1        4.65      NC  1611954941  \n",
       "2           0       11.50      IR  1611954941  \n",
       "3           0       20.71      BR  1611954942  \n",
       "4          16        4.56      RU  1611954942  "
      ]
     },
     "execution_count": 6,
     "metadata": {},
     "output_type": "execute_result"
    }
   ],
   "source": [
    "# Read in csv to avoid another API call\n",
    "weather = pd.read_csv(\"cities.csv\")\n",
    "weather.head()"
   ]
  },
  {
   "cell_type": "markdown",
   "metadata": {},
   "source": [
    "## Inspect the data and remove the cities where the humidity > 100%.\n",
    "----\n",
    "Skip this step if there are no cities that have humidity > 100%. "
   ]
  },
  {
   "cell_type": "code",
   "execution_count": 8,
   "metadata": {},
   "outputs": [
    {
     "data": {
      "text/plain": [
       "count    562.000000\n",
       "mean      72.208185\n",
       "std       20.454229\n",
       "min        1.000000\n",
       "25%       63.000000\n",
       "50%       77.500000\n",
       "75%       87.000000\n",
       "max      100.000000\n",
       "Name: Humidity, dtype: float64"
      ]
     },
     "execution_count": 8,
     "metadata": {},
     "output_type": "execute_result"
    }
   ],
   "source": [
    "humidity_check = weather[\"Humidity\"].describe(include = \"all\")\n",
    "humidity_check"
   ]
  },
  {
   "cell_type": "code",
   "execution_count": null,
   "metadata": {},
   "outputs": [],
   "source": [
    "#  Get the indices of cities that have humidity over 100%.\n",
    "# There doesn't appear to be an entry with humidity over 100%.\n"
   ]
  },
  {
   "cell_type": "code",
   "execution_count": null,
   "metadata": {},
   "outputs": [],
   "source": [
    "# Make a new DataFrame equal to the city data to drop all humidity outliers by index.\n",
    "# Passing \"inplace=False\" will make a copy of the city_data DataFrame, which we call \"clean_city_data\".\n"
   ]
  },
  {
   "cell_type": "markdown",
   "metadata": {},
   "source": [
    "## Plotting the Data\n",
    "* Use proper labeling of the plots using plot titles (including date of analysis) and axes labels.\n",
    "* Save the plotted figures as .pngs."
   ]
  },
  {
   "cell_type": "markdown",
   "metadata": {},
   "source": [
    "## Latitude vs. Temperature Plot"
   ]
  },
  {
   "cell_type": "code",
   "execution_count": 14,
   "metadata": {
    "scrolled": true
   },
   "outputs": [
    {
     "data": {
      "image/png": "[encoded data removed]",
      "text/plain": [
       "<Figure size 432x288 with 1 Axes>"
      ]
     },
     "metadata": {
      "needs_background": "light"
     },
     "output_type": "display_data"
    }
   ],
   "source": [
    "# Create scatter plot to show Latitude vs. Temperature\n",
    "plt.scatter(weather[\"Latitude\"], weather[\"Max Temp\"], marker = \"o\", color = \"blue\",edgecolor = \"black\")\n",
    "plt.grid()\n",
    "plt.xlabel('Latitude')\n",
    "plt.ylabel('Max Temperature (F)')\n",
    "plt.title(f'City Latitude vs. Max Temperature')\n",
    "plt.savefig('Lat_vs_Temp_plot')\n",
    "plt.show()"
   ]
  },
  {
   "cell_type": "markdown",
   "metadata": {},
   "source": [
    "## Latitude vs. Humidity Plot"
   ]
  },
  {
   "cell_type": "code",
   "execution_count": 15,
   "metadata": {},
   "outputs": [
    {
     "data": {
      "image/png": "[encoded data removed]",
      "text/plain": [
       "<Figure size 432x288 with 1 Axes>"
      ]
     },
     "metadata": {
      "needs_background": "light"
     },
     "output_type": "display_data"
    }
   ],
   "source": [
    "# Create scatter plot to show Latitude vs. Humidity\n",
    "plt.scatter(weather[\"Latitude\"], weather[\"Humidity\"], marker = \"o\", color = \"blue\",edgecolor = \"black\")\n",
    "plt.grid()\n",
    "plt.xlabel('Humidity')\n",
    "plt.ylabel('Max Temperature (F)')\n",
    "plt.title(f'City Latitude vs. Humidity')\n",
    "plt.savefig('Lat_vs_Humidity_plot')\n",
    "plt.show()"
   ]
  },
  {
   "cell_type": "markdown",
   "metadata": {},
   "source": [
    "## Latitude vs. Cloudiness Plot"
   ]
  },
  {
   "cell_type": "code",
   "execution_count": 17,
   "metadata": {},
   "outputs": [
    {
     "data": {
      "image/png": "[encoded data removed]",
      "text/plain": [
       "<Figure size 432x288 with 1 Axes>"
      ]
     },
     "metadata": {
      "needs_background": "light"
     },
     "output_type": "display_data"
    }
   ],
   "source": [
    "# Create scatter plot to show Latitude vs. Cloudiness\n",
    "plt.scatter(weather[\"Latitude\"], weather[\"Cloudiness\"], marker = \"o\", color = \"blue\",edgecolor = \"black\")\n",
    "plt.grid()\n",
    "plt.xlabel('Latitude')\n",
    "plt.ylabel('Cloudiness')\n",
    "plt.title(f'City Latitude vs. Cloudiness')\n",
    "plt.savefig('Lat_vs_Cloudiness_plot')\n",
    "plt.show()"
   ]
  },
  {
   "cell_type": "markdown",
   "metadata": {},
   "source": [
    "## Latitude vs. Wind Speed Plot"
   ]
  },
  {
   "cell_type": "code",
   "execution_count": 18,
   "metadata": {},
   "outputs": [
    {
     "data": {
      "image/png": "[encoded data removed]",
      "text/plain": [
       "<Figure size 432x288 with 1 Axes>"
      ]
     },
     "metadata": {
      "needs_background": "light"
     },
     "output_type": "display_data"
    }
   ],
   "source": [
    "# Create scatter plot to show Latitude vs. Wind Speed\n",
    "plt.scatter(weather[\"Latitude\"], weather[\"Wind Speed\"], marker = \"o\", color = \"blue\",edgecolor = \"black\")\n",
    "plt.grid()\n",
    "plt.xlabel('Latitude')\n",
    "plt.ylabel('Wind Speed')\n",
    "plt.title(f'City Latitude vs. Wind Speed')\n",
    "plt.savefig('Lat_vs_Wind_Speed_plot')\n",
    "plt.show()"
   ]
  },
  {
   "cell_type": "markdown",
   "metadata": {},
   "source": [
    "## Linear Regression"
   ]
  },
  {
   "cell_type": "code",
   "execution_count": 23,
   "metadata": {},
   "outputs": [
    {
     "name": "stdout",
     "output_type": "stream",
     "text": [
      "0      23.366066\n",
      "1      80.218091\n",
      "2      38.095057\n",
      "3      81.064446\n",
      "4      11.317726\n",
      "         ...    \n",
      "557    49.466928\n",
      "558    59.745065\n",
      "559    70.971016\n",
      "560    30.683143\n",
      "561    43.044373\n",
      "Name: Latitude, Length: 562, dtype: float64\n"
     ]
    }
   ],
   "source": [
    "# Define latitude for Northern and Southern Hemispheres\n",
    "Northern_Hemisphere = weather.loc[weather[\"Latitude\"] >= 0,:]\n",
    "Southern_Hemisphere = weather.loc[weather[\"Latitude\"] < 0,:]\n",
    "\n",
    "# Perform linear regression on each relationship\n",
    "x_values = weather['Latitude']\n",
    "y_values = weather['Max Temp']\n",
    "(slope, intercept, rvalue, pvalue, stderr) = linregress(x_values, y_values)\n",
    "\n",
    "# Get regression values\n",
    "regress_values = x_values * slope + intercept\n",
    "print(regress_values)"
   ]
  },
  {
   "cell_type": "code",
   "execution_count": 29,
   "metadata": {},
   "outputs": [
    {
     "name": "stdout",
     "output_type": "stream",
     "text": [
      "The r-squared is: -0.7703215368923558\n"
     ]
    },
    {
     "data": {
      "image/png": "[encoded data removed]",
      "text/plain": [
       "<Figure size 432x288 with 1 Axes>"
      ]
     },
     "metadata": {
      "needs_background": "light"
     },
     "output_type": "display_data"
    }
   ],
   "source": [
    "# Create plot\n",
    "plt.scatter(x_values,y_values)\n",
    "plt.plot(x_values,regress_values,\"r-\")\n",
    "\n",
    "# label plot\n",
    "plt.xlabel(\"Latitude\")\n",
    "plt.ylabel(\"Max Temp\")\n",
    "plt.title(f'City Latitude vs. Max Temp')\n",
    "plt.savefig('Lat_Lin_Reg_vs_Max_Temp_plot')\n",
    "    \n",
    "# Print r value\n",
    "print(f\"The r-squared is: {rvalue}\")\n",
    "    \n",
    "# Show plot\n",
    "plt.show()"
   ]
  },
  {
   "cell_type": "markdown",
   "metadata": {},
   "source": [
    "####  Northern Hemisphere - Max Temp vs. Latitude Linear Regression"
   ]
  },
  {
   "cell_type": "code",
   "execution_count": 30,
   "metadata": {},
   "outputs": [
    {
     "name": "stdout",
     "output_type": "stream",
     "text": [
      "The r-squared is: -0.8585419433989171\n"
     ]
    },
    {
     "data": {
      "image/png": "[encoded data removed]",
      "text/plain": [
       "<Figure size 432x288 with 1 Axes>"
      ]
     },
     "metadata": {
      "needs_background": "light"
     },
     "output_type": "display_data"
    }
   ],
   "source": [
    "# Perform Northern Hemisphere linear regression Max Temp vs. Latitude\n",
    "x_values = Northern_Hemisphere[\"Latitude\"]\n",
    "y_values = Northern_Hemisphere[\"Max Temp\"]\n",
    "\n",
    "(slope, intercept, rvalue, pvalue, stderr) = linregress(x_values, y_values)\n",
    "\n",
    "# Get regression values\n",
    "regress_values = x_values * slope + intercept\n",
    "\n",
    "# Create plot\n",
    "plt.scatter(x_values,y_values)\n",
    "plt.plot(x_values,regress_values,\"r-\")\n",
    "\n",
    "# label plot\n",
    "plt.xlabel(\"Latitude\")\n",
    "plt.ylabel(\"Max Temp\")\n",
    "plt.title(f'Northern Hemisphere City Latitude vs. Max Temp')\n",
    "plt.savefig('NH_Lat_Lin_Reg_vs_Max_Temp_plot')\n",
    "    \n",
    "# Print r value\n",
    "print(f\"The r-squared is: {rvalue}\")\n",
    "    \n",
    "# Show plot\n",
    "plt.show()"
   ]
  },
  {
   "cell_type": "markdown",
   "metadata": {},
   "source": [
    "####  Southern Hemisphere - Max Temp vs. Latitude Linear Regression"
   ]
  },
  {
   "cell_type": "code",
   "execution_count": 31,
   "metadata": {},
   "outputs": [
    {
     "name": "stdout",
     "output_type": "stream",
     "text": [
      "The r-squared is: 0.607706110469739\n"
     ]
    },
    {
     "data": {
      "image/png": "[encoded data removed]",
      "text/plain": [
       "<Figure size 432x288 with 1 Axes>"
      ]
     },
     "metadata": {
      "needs_background": "light"
     },
     "output_type": "display_data"
    }
   ],
   "source": [
    "# Perform Northern Hemisphere linear regression Max Temp vs. Latitude\n",
    "x_values = Southern_Hemisphere[\"Latitude\"]\n",
    "y_values = Southern_Hemisphere[\"Max Temp\"]\n",
    "\n",
    "(slope, intercept, rvalue, pvalue, stderr) = linregress(x_values, y_values)\n",
    "\n",
    "# Get regression values\n",
    "regress_values = x_values * slope + intercept\n",
    "\n",
    "# Create plot\n",
    "plt.scatter(x_values,y_values)\n",
    "plt.plot(x_values,regress_values,\"r-\")\n",
    "\n",
    "# label plot\n",
    "plt.xlabel(\"Latitude\")\n",
    "plt.ylabel(\"Max Temp\")\n",
    "plt.title(f'Southern Hemisphere City Latitude vs. Max Temp')\n",
    "plt.savefig('SH_Lat_Lin_Reg_vs_Max_Temp_plot')\n",
    "    \n",
    "# Print r value\n",
    "print(f\"The r-squared is: {rvalue}\")\n",
    "    \n",
    "# Show plot\n",
    "plt.show()"
   ]
  },
  {
   "cell_type": "markdown",
   "metadata": {},
   "source": [
    "####  Northern Hemisphere - Humidity (%) vs. Latitude Linear Regression"
   ]
  },
  {
   "cell_type": "code",
   "execution_count": 32,
   "metadata": {},
   "outputs": [
    {
     "name": "stdout",
     "output_type": "stream",
     "text": [
      "The r-squared is: 0.3313497012437426\n"
     ]
    },
    {
     "data": {
      "image/png": "[encoded data removed]",
      "text/plain": [
       "<Figure size 432x288 with 1 Axes>"
      ]
     },
     "metadata": {
      "needs_background": "light"
     },
     "output_type": "display_data"
    }
   ],
   "source": [
    "# Perform Northern Hemisphere linear regression Humidity vs. Latitude\n",
    "x_values = Northern_Hemisphere[\"Latitude\"]\n",
    "y_values = Northern_Hemisphere[\"Humidity\"]\n",
    "\n",
    "(slope, intercept, rvalue, pvalue, stderr) = linregress(x_values, y_values)\n",
    "\n",
    "# Get regression values\n",
    "regress_values = x_values * slope + intercept\n",
    "\n",
    "# Create plot\n",
    "plt.scatter(x_values,y_values)\n",
    "plt.plot(x_values,regress_values,\"r-\")\n",
    "\n",
    "# label plot\n",
    "plt.xlabel(\"Latitude\")\n",
    "plt.ylabel(\"Humidity\")\n",
    "plt.title(f'Northern Hemisphere City Latitude vs. Humidity')\n",
    "plt.savefig('NH_Lat_Lin_Reg_vs_Humidity_plot')\n",
    "    \n",
    "# Print r value\n",
    "print(f\"The r-squared is: {rvalue}\")\n",
    "    \n",
    "# Show plot\n",
    "plt.show()"
   ]
  },
  {
   "cell_type": "markdown",
   "metadata": {},
   "source": [
    "####  Southern Hemisphere - Humidity (%) vs. Latitude Linear Regression"
   ]
  },
  {
   "cell_type": "code",
   "execution_count": 33,
   "metadata": {},
   "outputs": [
    {
     "name": "stdout",
     "output_type": "stream",
     "text": [
      "The r-squared is: 0.24116948832497487\n"
     ]
    },
    {
     "data": {
      "image/png": "[encoded data removed]",
      "text/plain": [
       "<Figure size 432x288 with 1 Axes>"
      ]
     },
     "metadata": {
      "needs_background": "light"
     },
     "output_type": "display_data"
    }
   ],
   "source": [
    "# Perform Southern Hemisphere linear regression Humidity vs. Latitude\n",
    "x_values = Southern_Hemisphere[\"Latitude\"]\n",
    "y_values = Southern_Hemisphere[\"Humidity\"]\n",
    "\n",
    "(slope, intercept, rvalue, pvalue, stderr) = linregress(x_values, y_values)\n",
    "\n",
    "# Get regression values\n",
    "regress_values = x_values * slope + intercept\n",
    "\n",
    "# Create plot\n",
    "plt.scatter(x_values,y_values)\n",
    "plt.plot(x_values,regress_values,\"r-\")\n",
    "\n",
    "# label plot\n",
    "plt.xlabel(\"Latitude\")\n",
    "plt.ylabel(\"Humidity\")\n",
    "plt.title(f'Southern Hemisphere City Latitude vs. Humidity')\n",
    "plt.savefig('SH_Lat_Lin_Reg_vs_Humidity_plot')\n",
    "    \n",
    "# Print r value\n",
    "print(f\"The r-squared is: {rvalue}\")\n",
    "    \n",
    "# Show plot\n",
    "plt.show()"
   ]
  },
  {
   "cell_type": "markdown",
   "metadata": {},
   "source": [
    "####  Northern Hemisphere - Cloudiness (%) vs. Latitude Linear Regression"
   ]
  },
  {
   "cell_type": "code",
   "execution_count": 34,
   "metadata": {},
   "outputs": [
    {
     "name": "stdout",
     "output_type": "stream",
     "text": [
      "The r-squared is: 0.1559871536610528\n"
     ]
    },
    {
     "data": {
      "image/png": "[encoded data removed]",
      "text/plain": [
       "<Figure size 432x288 with 1 Axes>"
      ]
     },
     "metadata": {
      "needs_background": "light"
     },
     "output_type": "display_data"
    }
   ],
   "source": [
    "# Perform Northern Hemisphere linear regression Latitude vs. Cloudiness\n",
    "x_values = Northern_Hemisphere[\"Latitude\"]\n",
    "y_values = Northern_Hemisphere[\"Cloudiness\"]\n",
    "\n",
    "(slope, intercept, rvalue, pvalue, stderr) = linregress(x_values, y_values)\n",
    "\n",
    "# Get regression values\n",
    "regress_values = x_values * slope + intercept\n",
    "\n",
    "# Create plot\n",
    "plt.scatter(x_values,y_values)\n",
    "plt.plot(x_values,regress_values,\"r-\")\n",
    "\n",
    "# label plot\n",
    "plt.xlabel(\"Latitude\")\n",
    "plt.ylabel(\"Cloudiness\")\n",
    "plt.title(f'Northern Hemisphere City Latitude vs. Cloudiness')\n",
    "plt.savefig('NH_Lat_Lin_Reg_vs_Cloudiness_plot')\n",
    "    \n",
    "# Print r value\n",
    "print(f\"The r-squared is: {rvalue}\")\n",
    "    \n",
    "# Show plot\n",
    "plt.show()"
   ]
  },
  {
   "cell_type": "markdown",
   "metadata": {},
   "source": [
    "####  Southern Hemisphere - Cloudiness (%) vs. Latitude Linear Regression"
   ]
  },
  {
   "cell_type": "code",
   "execution_count": 36,
   "metadata": {},
   "outputs": [
    {
     "name": "stdout",
     "output_type": "stream",
     "text": [
      "The r-squared is: 0.1954721108893327\n"
     ]
    },
    {
     "data": {
      "image/png": "[encoded data removed]",
      "text/plain": [
       "<Figure size 432x288 with 1 Axes>"
      ]
     },
     "metadata": {
      "needs_background": "light"
     },
     "output_type": "display_data"
    }
   ],
   "source": [
    "# Perform Southern Hemisphere linear regression Latitude vs. Cloudiness\n",
    "x_values = Southern_Hemisphere[\"Latitude\"]\n",
    "y_values = Southern_Hemisphere[\"Cloudiness\"]\n",
    "\n",
    "(slope, intercept, rvalue, pvalue, stderr) = linregress(x_values, y_values)\n",
    "\n",
    "# Get regression values\n",
    "regress_values = x_values * slope + intercept\n",
    "\n",
    "# Create plot\n",
    "plt.scatter(x_values,y_values)\n",
    "plt.plot(x_values,regress_values,\"r-\")\n",
    "\n",
    "# label plot\n",
    "plt.xlabel(\"Latitude\")\n",
    "plt.ylabel(\"Cloudiness\")\n",
    "plt.title(f'Southern Hemisphere City Latitude vs. Cloudiness')\n",
    "plt.savefig('SH_Lat_Lin_Reg_vs_Cloudiness_plot')\n",
    "    \n",
    "# Print r value\n",
    "print(f\"The r-squared is: {rvalue}\")\n",
    "    \n",
    "# Show plot\n",
    "plt.show()"
   ]
  },
  {
   "cell_type": "markdown",
   "metadata": {},
   "source": [
    "####  Northern Hemisphere - Wind Speed (mph) vs. Latitude Linear Regression"
   ]
  },
  {
   "cell_type": "code",
   "execution_count": 37,
   "metadata": {},
   "outputs": [
    {
     "name": "stdout",
     "output_type": "stream",
     "text": [
      "The r-squared is: -0.0626030244614481\n"
     ]
    },
    {
     "data": {
      "image/png": "[encoded data removed]",
      "text/plain": [
       "<Figure size 432x288 with 1 Axes>"
      ]
     },
     "metadata": {
      "needs_background": "light"
     },
     "output_type": "display_data"
    }
   ],
   "source": [
    "# Perform Northern Hemisphere linear regression Latitude vs. Wind Speed\n",
    "x_values = Northern_Hemisphere[\"Latitude\"]\n",
    "y_values = Northern_Hemisphere[\"Wind Speed\"]\n",
    "\n",
    "(slope, intercept, rvalue, pvalue, stderr) = linregress(x_values, y_values)\n",
    "\n",
    "# Get regression values\n",
    "regress_values = x_values * slope + intercept\n",
    "\n",
    "# Create plot\n",
    "plt.scatter(x_values,y_values)\n",
    "plt.plot(x_values,regress_values,\"r-\")\n",
    "\n",
    "# label plot\n",
    "plt.xlabel(\"Latitude\")\n",
    "plt.ylabel(\"Wind Speed\")\n",
    "plt.title(f'Northern Hemisphere City Latitude vs. Wind Speed')\n",
    "plt.savefig('NH_Lat_Lin_Reg_vs_Wind_Speed_plot')\n",
    "    \n",
    "# Print r value\n",
    "print(f\"The r-squared is: {rvalue}\")\n",
    "    \n",
    "# Show plot\n",
    "plt.show()"
   ]
  },
  {
   "cell_type": "markdown",
   "metadata": {},
   "source": [
    "####  Southern Hemisphere - Wind Speed (mph) vs. Latitude Linear Regression"
   ]
  },
  {
   "cell_type": "code",
   "execution_count": 38,
   "metadata": {},
   "outputs": [
    {
     "name": "stdout",
     "output_type": "stream",
     "text": [
      "The r-squared is: -0.14615673408230545\n"
     ]
    },
    {
     "data": {
      "image/png": "[encoded data removed]",
      "text/plain": [
       "<Figure size 432x288 with 1 Axes>"
      ]
     },
     "metadata": {
      "needs_background": "light"
     },
     "output_type": "display_data"
    }
   ],
   "source": [
    "# Perform Southern Hemisphere linear regression Latitude vs. Wind Speed\n",
    "x_values = Southern_Hemisphere[\"Latitude\"]\n",
    "y_values = Southern_Hemisphere[\"Wind Speed\"]\n",
    "\n",
    "(slope, intercept, rvalue, pvalue, stderr) = linregress(x_values, y_values)\n",
    "\n",
    "# Get regression values\n",
    "regress_values = x_values * slope + intercept\n",
    "\n",
    "# Create plot\n",
    "plt.scatter(x_values,y_values)\n",
    "plt.plot(x_values,regress_values,\"r-\")\n",
    "\n",
    "# label plot\n",
    "plt.xlabel(\"Latitude\")\n",
    "plt.ylabel(\"Wind Speed\")\n",
    "plt.title(f'Southern Hemisphere City Latitude vs. Wind Speed')\n",
    "plt.savefig('NH_Lat_Lin_Reg_vs_Wind Speed_plot')\n",
    "    \n",
    "# Print r value\n",
    "print(f\"The r-squared is: {rvalue}\")\n",
    "    \n",
    "# Show plot\n",
    "plt.show()"
   ]
  },
  {
   "cell_type": "code",
   "execution_count": null,
   "metadata": {},
   "outputs": [],
   "source": []
  }
 ],
 "metadata": {
  "anaconda-cloud": {},
  "kernel_info": {
   "name": "python3"
  },
  "kernelspec": {
   "display_name": "Python 3",
   "language": "python",
   "name": "python3"
  },
  "language_info": {
   "codemirror_mode": {
    "name": "ipython",
    "version": 3
   },
   "file_extension": ".py",
   "mimetype": "text/x-python",
   "name": "python",
   "nbconvert_exporter": "python",
   "pygments_lexer": "ipython3",
   "version": "3.8.5"
  },
  "latex_envs": {
   "LaTeX_envs_menu_present": true,
   "autoclose": false,
   "autocomplete": true,
   "bibliofile": "biblio.bib",
   "cite_by": "apalike",
   "current_citInitial": 1,
   "eqLabelWithNumbers": true,
   "eqNumInitial": 1,
   "hotkeys": {
    "equation": "Ctrl-E",
    "itemize": "Ctrl-I"
   },
   "labels_anchors": false,
   "latex_user_defs": false,
   "report_style_numbering": false,
   "user_envs_cfg": false
  },
  "nteract": {
   "version": "0.12.3"
  }
 },
 "nbformat": 4,
 "nbformat_minor": 2
}
